{
  "nbformat": 4,
  "nbformat_minor": 0,
  "metadata": {
    "colab": {
      "provenance": []
    },
    "kernelspec": {
      "name": "python3",
      "display_name": "Python 3"
    },
    "language_info": {
      "name": "python"
    }
  },
  "cells": [
    {
      "cell_type": "markdown",
      "source": [
        "Problem: You have been given a dataset for marks of 2 subjects, scored by students of classes ClassA and ClassB. You now want to compare the performances of class A and class B by finding out the average performance of the classes. Write a program to find if class A performed better. Print True is Class A is strictly better else return False."
      ],
      "metadata": {
        "id": "-e25H3hK78E3"
      }
    },
    {
      "cell_type": "code",
      "source": [
        "A1=int(input())\n",
        "A2=int(input())\n",
        "B1=int(input())\n",
        "B2=int(input())\n",
        "A=(A1+A2)/2\n",
        "B=(B1+B2)/2\n",
        "if A>B:\n",
        "    print(True)\n",
        "else:\n",
        "    print(False)\n",
        "    "
      ],
      "metadata": {
        "colab": {
          "base_uri": "https://localhost:8080/"
        },
        "id": "RHYxh-wn7dIa",
        "outputId": "a4217b7a-b1f0-49c1-c116-cea2e03a877b"
      },
      "execution_count": 2,
      "outputs": [
        {
          "output_type": "stream",
          "name": "stdout",
          "text": [
            "80\n",
            "27\n",
            "54\n",
            "61\n",
            "False\n"
          ]
        }
      ]
    },
    {
      "cell_type": "markdown",
      "source": [
        "Problem: Write a program that takes the age of the user as input and tells them if they're old enough to ride a roller coaster. The minimum age to ride the roller coaster in this question is 13."
      ],
      "metadata": {
        "id": "jZ_1Fkwi8R1V"
      }
    },
    {
      "cell_type": "code",
      "source": [
        "a=int(input())\n",
        "if a>=13:\n",
        "    print(\"You can ride the roller coaster!\")\n",
        "else:\n",
        "    print(\"You can't ride the roller coaster.\")"
      ],
      "metadata": {
        "colab": {
          "base_uri": "https://localhost:8080/"
        },
        "id": "vvZ40ATt8dDT",
        "outputId": "bf39fb8b-8033-4358-a7ac-df66410a83b7"
      },
      "execution_count": 3,
      "outputs": [
        {
          "output_type": "stream",
          "name": "stdout",
          "text": [
            "9\n",
            "You can't ride the roller coaster.\n"
          ]
        }
      ]
    },
    {
      "cell_type": "markdown",
      "source": [
        "Problem: You are given 3 integer angles(in degrees) A, B and C of a triangle. You have to tell whether the triangle is valid or not. Print 1 if the triangle having given sides is valid, else print 0."
      ],
      "metadata": {
        "id": "eZUxtGxl8uO0"
      }
    },
    {
      "cell_type": "code",
      "source": [
        "A=int(input())\n",
        "B=int(input())\n",
        "C=int(input())\n",
        "x=A+B+C\n",
        "if x==180:\n",
        "    print('1')\n",
        "else:\n",
        "    print('0')"
      ],
      "metadata": {
        "colab": {
          "base_uri": "https://localhost:8080/"
        },
        "id": "vs0vLcAD8wkg",
        "outputId": "59dff0f8-0bfc-4737-a215-7bcf57384472"
      },
      "execution_count": 4,
      "outputs": [
        {
          "output_type": "stream",
          "name": "stdout",
          "text": [
            "60\n",
            "80\n",
            "100\n",
            "0\n"
          ]
        }
      ]
    },
    {
      "cell_type": "markdown",
      "source": [
        "Problem: Write a program that takes in a number N as input and does the following:\n",
        "\n",
        "if N is a multiple of 3, print Fizz\n",
        "if N is a multiple of 5, print Buzz\n",
        "if N is a multiple of both 3 and 5, print FizzBuzz"
      ],
      "metadata": {
        "id": "DjMcVorb9lGW"
      }
    },
    {
      "cell_type": "code",
      "source": [
        "n= int(input())\n",
        "if n%3==0 and n%5==0:\n",
        "    print('FizzBuzz')\n",
        "elif n%3==0:\n",
        "    print('Fizz')\n",
        "elif n%5==0:\n",
        "    print('Buzz')"
      ],
      "metadata": {
        "colab": {
          "base_uri": "https://localhost:8080/"
        },
        "id": "qUW6OsZO97SE",
        "outputId": "db6e1130-6f7b-47d6-e85f-d050bf04cd2c"
      },
      "execution_count": 9,
      "outputs": [
        {
          "output_type": "stream",
          "name": "stdout",
          "text": [
            "20\n",
            "Buzz\n"
          ]
        }
      ]
    },
    {
      "cell_type": "markdown",
      "source": [
        "Problem: Given an integer A representing an year, Return 1 if it is a leap year else return 0. A year is leap year if the following conditions are satisfied:\n",
        "1. Year is multiple of 400.\n",
        "2. Else the year is multiple of 4 and not multiple of 100."
      ],
      "metadata": {
        "id": "FLHCTi7a-HPI"
      }
    },
    {
      "cell_type": "code",
      "source": [
        "a=int(input())\n",
        "if a%400==0 or a%4==0 and a%100!=0:\n",
        "    print(\"1\")\n",
        "else:\n",
        "    print('0')"
      ],
      "metadata": {
        "colab": {
          "base_uri": "https://localhost:8080/"
        },
        "id": "Q3DTXpw6-W9Z",
        "outputId": "840c0a8d-b8cd-4f34-de75-899604d85075"
      },
      "execution_count": 7,
      "outputs": [
        {
          "output_type": "stream",
          "name": "stdout",
          "text": [
            "2020\n",
            "1\n"
          ]
        }
      ]
    },
    {
      "cell_type": "markdown",
      "source": [
        "Problem: In this exercise, you need to implement some rules from Pac-Man, the classic 1980s-era arcade-game.\n",
        "\n",
        "You have to answer whether the Pac-Man loses or not.\n",
        "\n",
        "Your are given the following integer inputs (0 / 1) one in each line:\n",
        "\n",
        "1. Does the Pac-Man have a power pellect active?\n",
        "\n",
        "2. Is the Pac-Man touching a ghost?\n",
        "\n",
        "The Pac-Man loses if it is touching a ghost and does not have a power pellet active. Print 1 if the Pac-Man loses else 0."
      ],
      "metadata": {
        "id": "bDbbLPPd_S14"
      }
    },
    {
      "cell_type": "code",
      "source": [
        "power=int(input())\n",
        "touch=int(input())\n",
        "if power==0 and touch==1:\n",
        "    print('1')\n",
        "else:\n",
        "    print('0')"
      ],
      "metadata": {
        "colab": {
          "base_uri": "https://localhost:8080/"
        },
        "id": "r8KB-D5Y_Ukp",
        "outputId": "98d18b8d-1f0d-4826-da08-61ef4a91c4be"
      },
      "execution_count": 10,
      "outputs": [
        {
          "output_type": "stream",
          "name": "stdout",
          "text": [
            "1\n",
            "1\n",
            "0\n"
          ]
        }
      ]
    },
    {
      "cell_type": "markdown",
      "source": [
        "Problem: Take an integer A as input. You have to tell whether A is divible by both 5 and 11 or not. Print 1 if A is divisible by both 5 and 11, else print 0."
      ],
      "metadata": {
        "id": "lmWVTe4e_sJh"
      }
    },
    {
      "cell_type": "code",
      "source": [
        "a=int(input())\n",
        "if a%5==0 and a%11==0:\n",
        "    print('1')\n",
        "else:\n",
        "    print('0')"
      ],
      "metadata": {
        "colab": {
          "base_uri": "https://localhost:8080/"
        },
        "id": "utS05nTv_xOL",
        "outputId": "6d13395f-f8f9-4bd5-fde8-c410def1c6b8"
      },
      "execution_count": 11,
      "outputs": [
        {
          "output_type": "stream",
          "name": "stdout",
          "text": [
            "55\n",
            "1\n"
          ]
        }
      ]
    },
    {
      "cell_type": "markdown",
      "source": [
        "Problem: Given a number A. Print all perfect squares less than or equal to A.\n",
        "Notes - Perfect squares are integers whose square root is an integer."
      ],
      "metadata": {
        "id": "XY3jiQwfAB_m"
      }
    },
    {
      "cell_type": "code",
      "source": [
        "a=int(input())\n",
        "i=1\n",
        "while i<=a:\n",
        "  if i*i<=a:\n",
        "    print(i**2,end=\" \")\n",
        "  i+=1"
      ],
      "metadata": {
        "colab": {
          "base_uri": "https://localhost:8080/"
        },
        "id": "TzKaIyKaAMGq",
        "outputId": "069fbf6d-1cb0-4a89-ca4b-07ce8fcaf68b"
      },
      "execution_count": 17,
      "outputs": [
        {
          "output_type": "stream",
          "name": "stdout",
          "text": [
            "36\n",
            "1 4 9 16 25 36 "
          ]
        }
      ]
    },
    {
      "cell_type": "markdown",
      "source": [
        "Problem: Take a number A as input, print its multiplication table having the first 10 multiples."
      ],
      "metadata": {
        "id": "lLwVBy_dAWUh"
      }
    },
    {
      "cell_type": "code",
      "source": [
        "a=int(input())\n",
        "i=1\n",
        "while i<=a*2:\n",
        "    print(a,\"*\",i,\"=\",i*a)\n",
        "    i+=1"
      ],
      "metadata": {
        "colab": {
          "base_uri": "https://localhost:8080/"
        },
        "id": "lEtBEur5AXWu",
        "outputId": "2fb73425-eea9-4c91-b0c6-512b7b38c5a1"
      },
      "execution_count": 12,
      "outputs": [
        {
          "output_type": "stream",
          "name": "stdout",
          "text": [
            "5\n",
            "5 * 1 = 5\n",
            "5 * 2 = 10\n",
            "5 * 3 = 15\n",
            "5 * 4 = 20\n",
            "5 * 5 = 25\n",
            "5 * 6 = 30\n",
            "5 * 7 = 35\n",
            "5 * 8 = 40\n",
            "5 * 9 = 45\n",
            "5 * 10 = 50\n"
          ]
        }
      ]
    },
    {
      "cell_type": "markdown",
      "source": [
        "Problem: Take T (number of test cases) as input.\n",
        "For each test case, take integer N as input and Print the sum of digits of that number."
      ],
      "metadata": {
        "id": "L2GL2A2VAmP0"
      }
    },
    {
      "cell_type": "code",
      "source": [
        "t=int(input())\n",
        "i=1\n",
        "while i<=t:\n",
        "  n=int(input())\n",
        "  sum=0\n",
        "  while n!=0:\n",
        "    sum=sum+(n%10)\n",
        "    n//=10\n",
        "  print(sum)\n",
        "  i+=1"
      ],
      "metadata": {
        "colab": {
          "base_uri": "https://localhost:8080/"
        },
        "id": "sIkTPUC_AtId",
        "outputId": "ce935f08-0b29-4adc-a2b5-d75d9c930fed"
      },
      "execution_count": 16,
      "outputs": [
        {
          "output_type": "stream",
          "name": "stdout",
          "text": [
            "2\n",
            "67854\n",
            "30\n",
            "346842425346574\n",
            "67\n"
          ]
        }
      ]
    },
    {
      "cell_type": "markdown",
      "source": [
        "Problem: Write a program to print all Natural numbers from N to 1 where you have to take N as input from user."
      ],
      "metadata": {
        "id": "m17kQDpDBjt2"
      }
    },
    {
      "cell_type": "code",
      "source": [
        "n=int(input())\n",
        "for i in range(n,0,-1):\n",
        "    print(i,end=\" \")"
      ],
      "metadata": {
        "colab": {
          "base_uri": "https://localhost:8080/"
        },
        "id": "Q4lMzBq1Bnyg",
        "outputId": "b6d23a19-1c39-41ea-eeae-5b8bb87ebc8f"
      },
      "execution_count": 18,
      "outputs": [
        {
          "output_type": "stream",
          "name": "stdout",
          "text": [
            "25\n",
            "25 24 23 22 21 20 19 18 17 16 15 14 13 12 11 10 9 8 7 6 5 4 3 2 1 "
          ]
        }
      ]
    },
    {
      "cell_type": "markdown",
      "source": [
        "Problem: Take an integer A as input. You have to print the sum of all odd numbers in the range [1, A]."
      ],
      "metadata": {
        "id": "rkoUfT8jBypq"
      }
    },
    {
      "cell_type": "code",
      "source": [
        "a=int(input())\n",
        "s=0\n",
        "for i in range(1,a+1):\n",
        "    if i%2!=0:\n",
        "        s=s+i\n",
        "    else:\n",
        "        pass\n",
        "print(s)"
      ],
      "metadata": {
        "colab": {
          "base_uri": "https://localhost:8080/"
        },
        "id": "2hFBoROcB2iF",
        "outputId": "75db1c51-151a-486c-880c-b98c8372867d"
      },
      "execution_count": 19,
      "outputs": [
        {
          "output_type": "stream",
          "name": "stdout",
          "text": [
            "48\n",
            "576\n"
          ]
        }
      ]
    },
    {
      "cell_type": "markdown",
      "source": [
        "Problem: Take an integer A as input, determine whether it is palindromic or not.\n",
        "\n",
        "A palindrome integer is an integer X for which reverse(X) = X where reverse(X) is X with its digits reversed. For e.g., reverse(123) = 321. Note : There will be no zeros at the start of a number."
      ],
      "metadata": {
        "id": "cTxHfJ0_B-Nw"
      }
    },
    {
      "cell_type": "code",
      "source": [
        "a=input()\n",
        "if a==a[::-1]:\n",
        "    print(\"Yes\")\n",
        "else:\n",
        "    print(\"No\")"
      ],
      "metadata": {
        "colab": {
          "base_uri": "https://localhost:8080/"
        },
        "id": "gCN3Ji6oB884",
        "outputId": "0de3fcff-fe7f-4d35-b47f-21822c80712e"
      },
      "execution_count": 20,
      "outputs": [
        {
          "output_type": "stream",
          "name": "stdout",
          "text": [
            "radar\n",
            "Yes\n"
          ]
        }
      ]
    },
    {
      "cell_type": "markdown",
      "source": [
        "Problem: Write a program that accepts T numbers(N) from the user and find reverse of the given number(N)."
      ],
      "metadata": {
        "id": "mmdU9-1YClNZ"
      }
    },
    {
      "cell_type": "code",
      "source": [
        "t=int(input())\n",
        "for i in range(1,t+1):\n",
        "    n=int(input())\n",
        "    m=0\n",
        "    while n!=0:\n",
        "      r=n%10\n",
        "      m=m*10+r\n",
        "      n=n//10\n",
        "    print(m)"
      ],
      "metadata": {
        "colab": {
          "base_uri": "https://localhost:8080/"
        },
        "id": "0E-ZSyX6Cpqp",
        "outputId": "e7a0c559-acb1-41b9-b754-24ce1b2a0221"
      },
      "execution_count": 21,
      "outputs": [
        {
          "output_type": "stream",
          "name": "stdout",
          "text": [
            "2\n",
            "875\n",
            "578\n",
            "345\n",
            "543\n"
          ]
        }
      ]
    },
    {
      "cell_type": "markdown",
      "source": [
        "Problem: Write a program to input an integer T and then for each test case input two integers A and B in two different lines and then print T lines containing Least Common Multiple (LCM) of two given 2 numbers A and B.\n",
        "\n",
        "LCM of two integers is the smallest positive integer divisible by both."
      ],
      "metadata": {
        "id": "FKk4t7D-CwsW"
      }
    },
    {
      "cell_type": "code",
      "source": [
        "t=int(input())\n",
        "for i in range(1,t+1):\n",
        "    a=int(input())\n",
        "    b=int(input())\n",
        "    #x=max(a,b)\n",
        "    for i in range(1,a*b+1):\n",
        "      if i%a==0 and i%b==0:\n",
        "        print(i)\n",
        "        break"
      ],
      "metadata": {
        "colab": {
          "base_uri": "https://localhost:8080/"
        },
        "id": "U3Rhp69IC3DJ",
        "outputId": "5789f82c-bb96-4189-f6b7-f19c59395ca3"
      },
      "execution_count": 28,
      "outputs": [
        {
          "output_type": "stream",
          "name": "stdout",
          "text": [
            "1\n",
            "16\n",
            "54\n",
            "432\n"
          ]
        }
      ]
    },
    {
      "cell_type": "markdown",
      "source": [
        "Problem: Write a program to input an integer T which represents the number of test cases. For each test case input two integers A and B in two different lines. For each pair of A and B print the HCF of the given two numbers."
      ],
      "metadata": {
        "id": "_pD8NyEbDihL"
      }
    },
    {
      "cell_type": "code",
      "source": [
        "t=int(input())\n",
        "for i in range(0,t):\n",
        "    a=int(input())\n",
        "    b=int(input())\n",
        "    x=min(a,b)\n",
        "    for i in range(x,0,-1):\n",
        "        if a%i==0 and b%i==0:\n",
        "            print(i)\n",
        "            break"
      ],
      "metadata": {
        "colab": {
          "base_uri": "https://localhost:8080/"
        },
        "id": "XjhR_L3pDmbC",
        "outputId": "0e9f59ff-c0f3-4aee-ec2d-cfeb98c8ab97"
      },
      "execution_count": 30,
      "outputs": [
        {
          "output_type": "stream",
          "name": "stdout",
          "text": [
            "1\n",
            "87\n",
            "54\n",
            "3\n"
          ]
        }
      ]
    },
    {
      "cell_type": "markdown",
      "source": [
        "Problem: Take an integer N as input, print the Numeric Inverted Half Pyramid pattern for N."
      ],
      "metadata": {
        "id": "sugkPMbfEgnO"
      }
    },
    {
      "cell_type": "code",
      "source": [
        "n=int(input())\n",
        "i=1\n",
        "while i<=n:\n",
        "  for j in range(1,n+1):\n",
        "    if j==n:\n",
        "      print(j,end='')\n",
        "    else:\n",
        "      print(j,end=\" \")\n",
        "  print()\n",
        "  n=n-1\n",
        "i+=1"
      ],
      "metadata": {
        "colab": {
          "base_uri": "https://localhost:8080/"
        },
        "id": "VoyCbTdIEiLi",
        "outputId": "b4934c29-5589-4a92-8a39-52b02de2fe37"
      },
      "execution_count": 31,
      "outputs": [
        {
          "output_type": "stream",
          "name": "stdout",
          "text": [
            "5\n",
            "1 2 3 4 5\n",
            "1 2 3 4\n",
            "1 2 3\n",
            "1 2\n",
            "1\n"
          ]
        }
      ]
    },
    {
      "cell_type": "markdown",
      "source": [
        "Problem: Two Line Star Pattern"
      ],
      "metadata": {
        "id": "g9w_CZJlExSD"
      }
    },
    {
      "cell_type": "code",
      "source": [
        "n=int(input())\n",
        "for i in range(1,n+1):\n",
        "  print(\"*\" + \" \"*(n-2) + \"*\")"
      ],
      "metadata": {
        "colab": {
          "base_uri": "https://localhost:8080/"
        },
        "id": "Puy-fCY3E7mo",
        "outputId": "686c0019-1301-42ab-d4b1-2d8cb49daa45"
      },
      "execution_count": 32,
      "outputs": [
        {
          "output_type": "stream",
          "name": "stdout",
          "text": [
            "4\n",
            "*  *\n",
            "*  *\n",
            "*  *\n",
            "*  *\n"
          ]
        }
      ]
    },
    {
      "cell_type": "markdown",
      "source": [
        "Problem: Take an integer N, print the Full Pyramid pattern for N."
      ],
      "metadata": {
        "id": "GLJDPEoVFBJz"
      }
    },
    {
      "cell_type": "code",
      "source": [
        "n=int(input())\n",
        "for i in range(1,n+1):\n",
        "    for j in range(n-i):\n",
        "        print(\" \",end=\"\")\n",
        "    for k in range(i):\n",
        "        print(\"* \",end=\"\")\n",
        "    print()"
      ],
      "metadata": {
        "colab": {
          "base_uri": "https://localhost:8080/"
        },
        "id": "QW-Me3CGFV8m",
        "outputId": "a375a20e-cba5-4076-a267-8e1a07d0aabb"
      },
      "execution_count": 33,
      "outputs": [
        {
          "output_type": "stream",
          "name": "stdout",
          "text": [
            "5\n",
            "    * \n",
            "   * * \n",
            "  * * * \n",
            " * * * * \n",
            "* * * * * \n"
          ]
        }
      ]
    },
    {
      "cell_type": "markdown",
      "source": [
        "Problem: Given the temperature of a day in Degrees Celsius, convert this given temperature from Celsius to Fahrenheit. Write a program to do so. Round the output up to 2 decimal places"
      ],
      "metadata": {
        "id": "RmysSZ_vFePs"
      }
    },
    {
      "cell_type": "code",
      "source": [
        "def celsius_farhen(x):\n",
        "    ans = 0\n",
        "    return round(x*1.8+32,2)\n",
        "    ans=celsius_farhen(x)\n",
        "\n",
        "celsius_farhen(99)"
      ],
      "metadata": {
        "colab": {
          "base_uri": "https://localhost:8080/"
        },
        "id": "6DrLz7IkGSee",
        "outputId": "4c7f8ebe-5779-435c-fab0-556e4cdec28c"
      },
      "execution_count": 37,
      "outputs": [
        {
          "output_type": "execute_result",
          "data": {
            "text/plain": [
              "210.2"
            ]
          },
          "metadata": {},
          "execution_count": 37
        }
      ]
    },
    {
      "cell_type": "markdown",
      "source": [
        "Problem: Given an integer n, write a program to print the sum of squares of first n natural numbers in integer format. The formula for the sum of squares of first n natural numbers is: n(n+1)(2n+1)/6"
      ],
      "metadata": {
        "id": "TZ3FpSIVHM8R"
      }
    },
    {
      "cell_type": "code",
      "source": [
        "def sum_squares(n):\n",
        "    ans = None\n",
        "    return n*(n+1)*(2*n+1)//6\n",
        "\n",
        "sum_squares(89)"
      ],
      "metadata": {
        "colab": {
          "base_uri": "https://localhost:8080/"
        },
        "id": "cZ_FkpgzHMju",
        "outputId": "10c6785e-a806-4de3-9c5c-934c7ae3e6bd"
      },
      "execution_count": 39,
      "outputs": [
        {
          "output_type": "execute_result",
          "data": {
            "text/plain": [
              "238965"
            ]
          },
          "metadata": {},
          "execution_count": 39
        }
      ]
    },
    {
      "cell_type": "markdown",
      "source": [
        "Problem: Write a function to check whether a given number n as an input to the function is a perfect number or not. If the given integer is a perfect number return 1 else return 0.\n",
        "\n",
        "Note: In number theory, a perfect number is a positive integer that is equal to the sum of its proper positive divisors, that is, the sum of its positive divisors excluding the number itself (also known as its aliquot sum)."
      ],
      "metadata": {
        "id": "Dfi0R5KuJjeS"
      }
    },
    {
      "cell_type": "code",
      "source": [
        "def perfect_number(n):\n",
        "\n",
        "    s=0\n",
        "    for i in range(1,n):\n",
        "        if n%i==0:\n",
        "            s=s+i\n",
        "    if s==n and n>=0:\n",
        "        print(\"1\")\n",
        "    else:\n",
        "        print(\"0\")"
      ],
      "metadata": {
        "id": "thz74RCOJyXy"
      },
      "execution_count": 40,
      "outputs": []
    },
    {
      "cell_type": "markdown",
      "source": [
        "Problem: Given three integers, A, B and C. You have to find the number of days it will take to reach zero cases of Corona in a city.\n",
        "\n",
        "A - Average cases recovered in a day of the corona.\n",
        "B - Number of new cases of corona daily.\n",
        "C - Current active cases of the corona.\n",
        "\n",
        "Return the minimum number of days it will take to reach 0 active cases of Covid."
      ],
      "metadata": {
        "id": "ZJDGUlwqKz5r"
      }
    },
    {
      "cell_type": "code",
      "source": [
        "def solve(self, A, B, C):\n",
        "    days=0\n",
        "    while C>0:\n",
        "        C=C+B\n",
        "        C=C-A\n",
        "        days=days+1\n",
        "    return days"
      ],
      "metadata": {
        "id": "B8TG3QsuLS6_"
      },
      "execution_count": 41,
      "outputs": []
    },
    {
      "cell_type": "markdown",
      "source": [
        "Given an integer A, find the rounded value of real number A / 200.\n",
        "\n",
        "Rounded value of a real number X is the integer which is nearest to X, with halfway cases rounded away from zero.\n",
        "\n",
        "Some examples:\n",
        "\n",
        "Rounded value of 2.4 = 2\n",
        "Rounded value of 2.5 = 3\n",
        "Rounded value of 2.6 = 3\n",
        "Rounded value of 0.0 = 0\n",
        "Rounded value of -2.4 = -2\n",
        "Rounded value of -2.5 = -3\n",
        "Rounded value of -2.6 = -3"
      ],
      "metadata": {
        "id": "Ih4wNPubLspR"
      }
    },
    {
      "cell_type": "code",
      "source": [
        "def solve(self, A):\n",
        "    ans=0\n",
        "    n=A/200\n",
        "    m=int(n)\n",
        "    if n>0:\n",
        "        if n>=m+0.5:\n",
        "            ans=m+1\n",
        "        else:\n",
        "            ans=m\n",
        "    else:\n",
        "        if n>m-0.5:\n",
        "            ans=m\n",
        "        else:\n",
        "            ans=m-1\n",
        "    return ans   "
      ],
      "metadata": {
        "id": "Hab6uqcyMEGI"
      },
      "execution_count": 42,
      "outputs": []
    },
    {
      "cell_type": "markdown",
      "source": [
        "Problem:Given the height (A) and weight (B) of a person as input in centimetres and kilograms.\n",
        "\n",
        "Find the BMI of that person and the classification of the user based on their BMI.\n",
        "\n",
        "Print Underweight if BMI < 18.5\n",
        "Print Normal weight if BMI lies in the range [18.5, 24.9]\n",
        "Print Overweight if BMI lies in the range (24.9, 29.9]\n",
        "Print Obese if BMI is greater than 29.9\n",
        "If x is the weight in kilograms and y is the height in metres.\n",
        "\n",
        "Then, BMI is calculated as x/(y*y)."
      ],
      "metadata": {
        "id": "VaHlOBwEM-YE"
      }
    },
    {
      "cell_type": "code",
      "source": [
        "def main(a,b):\n",
        "    a=a/100\n",
        "    bmi=round(b/(a*a),1)\n",
        "    if bmi<18.5:\n",
        "        print('Underweight')\n",
        "        print(bmi)\n",
        "    elif bmi<=24.9 and bmi>=18.5:\n",
        "        print('Normal Weight')\n",
        "        print(bmi)\n",
        "    elif bmi<=29.9 and bmi>=24.9:\n",
        "        print('Overweight')\n",
        "        print(bmi)\n",
        "    elif bmi>29.9:\n",
        "        print('Obese')\n",
        "        print(bmi)\n",
        "\n",
        "\n",
        "a=float(input())\n",
        "b=float(input())\n",
        "\n",
        "main(a,b)"
      ],
      "metadata": {
        "colab": {
          "base_uri": "https://localhost:8080/"
        },
        "id": "cs_qIlOJM_6A",
        "outputId": "cc8b1dd0-4575-4a6b-8077-7bd807cebf52"
      },
      "execution_count": 44,
      "outputs": [
        {
          "output_type": "stream",
          "name": "stdout",
          "text": [
            "170\n",
            "50\n",
            "Underweight\n",
            "17.3\n"
          ]
        }
      ]
    }
  ]
}